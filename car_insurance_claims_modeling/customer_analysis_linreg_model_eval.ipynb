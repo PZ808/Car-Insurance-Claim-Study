{
 "cells": [
  {
   "cell_type": "markdown",
   "id": "69baa2b1",
   "metadata": {},
   "source": [
    "# Car Insurance Claim Linear Regression Model\n",
    "\n"
   ]
  },
  {
   "cell_type": "markdown",
   "source": [],
   "metadata": {
    "collapsed": false
   }
  },
  {
   "cell_type": "code",
   "execution_count": 2,
   "outputs": [],
   "source": [
    "import numpy as np\n",
    "import pandas as pd\n",
    "import matplotlib.pyplot as plt\n",
    "%matplotlib inline\n",
    "pd.options.display.max_rows = 100\n",
    "import warnings\n",
    "\n",
    "import seaborn as sns\n",
    "from sklearn.preprocessing import StandardScaler\n",
    "from sklearn.linear_model import LinearRegression\n",
    "from sklearn.model_selection import train_test_split\n",
    "from sklearn.metrics import r2_score\n",
    "warnings.simplefilter(action='ignore', category=FutureWarning)"
   ],
   "metadata": {
    "collapsed": false
   }
  },
  {
   "cell_type": "code",
   "execution_count": 2,
   "outputs": [],
   "source": [
    "def col_rename(df, dict_rules, ip=True):\n",
    "    ''' rename columns in data frame using a dictionary of rules  '''\n",
    "    if isinstance(df,pd.core.frame.DataFrame) and isinstance(dict_rules,dict):\n",
    "        z = df.rename(columns = dict_rules, inplace=ip)\n",
    "    else:\n",
    "        raise TypeError\n",
    "    return z\n",
    "#\n",
    "def print_unique(df,col):\n",
    "    ''' gives a list of unique values in a field '''\n",
    "    if isinstance(df,pd.core.frame.DataFrame) and isinstance(col,pd.core.frame.Series):\n",
    "        z = df[col].unique()\n",
    "    else:\n",
    "        raise TypeError\n",
    "    return z\n",
    "#\n",
    "def lower_case_column_names(df):\n",
    "    ''' make columns lower case '''\n",
    "    if isinstance(df,pd.core.frame.DataFrame):\n",
    "        df.columns= [i.lower() for i in df.columns]\n",
    "        df.columns = df.columns.str.replace(' ', '_')\n",
    "    else:\n",
    "        raise TypeError\n",
    "    return df\n",
    "\n",
    "def Remove_Outlier_Indices(df):\n",
    "    \"\"\" returns a df of boolean values to used to index a trimmed table in the 1.5*IQR range\"\"\"\n",
    "    if isinstance(df,pd.core.frame.DataFrame):\n",
    "        Q1 = df.quantile(0.25)\n",
    "        Q3 = df.quantile(0.75)\n",
    "        IQR = Q3 - Q1\n",
    "        trueList = ~((df < (Q1 - 1.5*IQR)) |(df > (Q3 + 1.5*IQR)))\n",
    "    else:\n",
    "        raise TypeError\n",
    "    return trueList"
   ],
   "metadata": {
    "collapsed": false
   }
  },
  {
   "cell_type": "code",
   "execution_count": 3,
   "id": "7167dcdc",
   "metadata": {
    "hidden": true
   },
   "outputs": [],
   "source": [
    "c2_df = pd.read_csv('../Data/Data_Marketing_Customer_Analysis_Round3.csv')"
   ]
  },
  {
   "cell_type": "code",
   "execution_count": 4,
   "outputs": [],
   "source": [
    "# remove the discrete fields\n",
    "#c2_df.drop(['number_of_open_complaints','number_of_policies'],axis=1,inplace=True)"
   ],
   "metadata": {
    "collapsed": false
   }
  },
  {
   "cell_type": "code",
   "execution_count": null,
   "outputs": [],
   "source": [],
   "metadata": {
    "collapsed": false
   }
  },
  {
   "cell_type": "code",
   "execution_count": 5,
   "outputs": [
    {
     "data": {
      "text/plain": "       Unnamed: 0       region  customer_lifetime_value response  coverage  \\\n0               0      central                     4809       no     basic   \n1               1  west region                     2228       no     basic   \n2               2         east                    14947       no     basic   \n3               3   north west                    22332      yes  extended   \n4               4   north west                     9025       no   premium   \n...           ...          ...                      ...      ...       ...   \n10684       10684      central                    15563       no   premium   \n10685       10685   north west                     5259       no     basic   \n10686       10686      central                    23893       no  extended   \n10687       10687  west region                    11971       no   premium   \n10688       10688  west region                     6857       no     basic   \n\n      education effective_to_date month employment_status gender  ...  \\\n0       college           2/18/11   feb          employed      m  ...   \n1       college           1/18/11   jan        unemployed      f  ...   \n2      bachelor           2/10/11   feb          employed      m  ...   \n3       college           1/11/11   jan          employed      m  ...   \n4      bachelor           1/17/11   jan     medical leave      f  ...   \n...         ...               ...   ...               ...    ...  ...   \n10684  bachelor           1/19/11   jan        unemployed      f  ...   \n10685   college            1/6/11   jan          employed      f  ...   \n10686  bachelor            2/6/11   feb          employed      f  ...   \n10687   college           2/13/11   feb          employed      f  ...   \n10688  bachelor            1/8/11   jan        unemployed      m  ...   \n\n       months_since_policy_inception number_of_open_complaints  \\\n0                                 52                         0   \n1                                 26                         0   \n2                                 31                         0   \n3                                  3                         0   \n4                                 31                         1   \n...                              ...                       ...   \n10684                             40                         2   \n10685                             68                         0   \n10686                             63                         0   \n10687                             27                         4   \n10688                              1                         0   \n\n      number_of_policies     policy_type        policy  renew_offer_type  \\\n0                      9  corporate auto  corporate l3            offer3   \n1                      1   personal auto   personal l3            offer4   \n2                      2   personal auto   personal l3            offer3   \n3                      2  corporate auto  corporate l3            offer2   \n4                      7   personal auto   personal l2            offer1   \n...                  ...             ...           ...               ...   \n10684                  7   personal auto   personal l1            offer3   \n10685                  6   personal auto   personal l3            offer2   \n10686                  2  corporate auto  corporate l3            offer1   \n10687                  6   personal auto   personal l1            offer1   \n10688                  3   personal auto   personal l1            offer4   \n\n       sales_channel  total_claim_amount  vehicle_class vehicle_size  \n0              agent                 292  four-door car      medsize  \n1        call center                 744  four-door car      medsize  \n2        call center                 480            suv      medsize  \n3             branch                 484  four-door car      medsize  \n4             branch                 707  four-door car      medsize  \n...              ...                 ...            ...          ...  \n10684            web                1214     luxury car      medsize  \n10685         branch                 273  four-door car      medsize  \n10686            web                 381     luxury suv      medsize  \n10687         branch                 618            suv      medsize  \n10688            web                1021            suv      medsize  \n\n[10689 rows x 25 columns]",
      "text/html": "<div>\n<style scoped>\n    .dataframe tbody tr th:only-of-type {\n        vertical-align: middle;\n    }\n\n    .dataframe tbody tr th {\n        vertical-align: top;\n    }\n\n    .dataframe thead th {\n        text-align: right;\n    }\n</style>\n<table border=\"1\" class=\"dataframe\">\n  <thead>\n    <tr style=\"text-align: right;\">\n      <th></th>\n      <th>Unnamed: 0</th>\n      <th>region</th>\n      <th>customer_lifetime_value</th>\n      <th>response</th>\n      <th>coverage</th>\n      <th>education</th>\n      <th>effective_to_date</th>\n      <th>month</th>\n      <th>employment_status</th>\n      <th>gender</th>\n      <th>...</th>\n      <th>months_since_policy_inception</th>\n      <th>number_of_open_complaints</th>\n      <th>number_of_policies</th>\n      <th>policy_type</th>\n      <th>policy</th>\n      <th>renew_offer_type</th>\n      <th>sales_channel</th>\n      <th>total_claim_amount</th>\n      <th>vehicle_class</th>\n      <th>vehicle_size</th>\n    </tr>\n  </thead>\n  <tbody>\n    <tr>\n      <th>0</th>\n      <td>0</td>\n      <td>central</td>\n      <td>4809</td>\n      <td>no</td>\n      <td>basic</td>\n      <td>college</td>\n      <td>2/18/11</td>\n      <td>feb</td>\n      <td>employed</td>\n      <td>m</td>\n      <td>...</td>\n      <td>52</td>\n      <td>0</td>\n      <td>9</td>\n      <td>corporate auto</td>\n      <td>corporate l3</td>\n      <td>offer3</td>\n      <td>agent</td>\n      <td>292</td>\n      <td>four-door car</td>\n      <td>medsize</td>\n    </tr>\n    <tr>\n      <th>1</th>\n      <td>1</td>\n      <td>west region</td>\n      <td>2228</td>\n      <td>no</td>\n      <td>basic</td>\n      <td>college</td>\n      <td>1/18/11</td>\n      <td>jan</td>\n      <td>unemployed</td>\n      <td>f</td>\n      <td>...</td>\n      <td>26</td>\n      <td>0</td>\n      <td>1</td>\n      <td>personal auto</td>\n      <td>personal l3</td>\n      <td>offer4</td>\n      <td>call center</td>\n      <td>744</td>\n      <td>four-door car</td>\n      <td>medsize</td>\n    </tr>\n    <tr>\n      <th>2</th>\n      <td>2</td>\n      <td>east</td>\n      <td>14947</td>\n      <td>no</td>\n      <td>basic</td>\n      <td>bachelor</td>\n      <td>2/10/11</td>\n      <td>feb</td>\n      <td>employed</td>\n      <td>m</td>\n      <td>...</td>\n      <td>31</td>\n      <td>0</td>\n      <td>2</td>\n      <td>personal auto</td>\n      <td>personal l3</td>\n      <td>offer3</td>\n      <td>call center</td>\n      <td>480</td>\n      <td>suv</td>\n      <td>medsize</td>\n    </tr>\n    <tr>\n      <th>3</th>\n      <td>3</td>\n      <td>north west</td>\n      <td>22332</td>\n      <td>yes</td>\n      <td>extended</td>\n      <td>college</td>\n      <td>1/11/11</td>\n      <td>jan</td>\n      <td>employed</td>\n      <td>m</td>\n      <td>...</td>\n      <td>3</td>\n      <td>0</td>\n      <td>2</td>\n      <td>corporate auto</td>\n      <td>corporate l3</td>\n      <td>offer2</td>\n      <td>branch</td>\n      <td>484</td>\n      <td>four-door car</td>\n      <td>medsize</td>\n    </tr>\n    <tr>\n      <th>4</th>\n      <td>4</td>\n      <td>north west</td>\n      <td>9025</td>\n      <td>no</td>\n      <td>premium</td>\n      <td>bachelor</td>\n      <td>1/17/11</td>\n      <td>jan</td>\n      <td>medical leave</td>\n      <td>f</td>\n      <td>...</td>\n      <td>31</td>\n      <td>1</td>\n      <td>7</td>\n      <td>personal auto</td>\n      <td>personal l2</td>\n      <td>offer1</td>\n      <td>branch</td>\n      <td>707</td>\n      <td>four-door car</td>\n      <td>medsize</td>\n    </tr>\n    <tr>\n      <th>...</th>\n      <td>...</td>\n      <td>...</td>\n      <td>...</td>\n      <td>...</td>\n      <td>...</td>\n      <td>...</td>\n      <td>...</td>\n      <td>...</td>\n      <td>...</td>\n      <td>...</td>\n      <td>...</td>\n      <td>...</td>\n      <td>...</td>\n      <td>...</td>\n      <td>...</td>\n      <td>...</td>\n      <td>...</td>\n      <td>...</td>\n      <td>...</td>\n      <td>...</td>\n      <td>...</td>\n    </tr>\n    <tr>\n      <th>10684</th>\n      <td>10684</td>\n      <td>central</td>\n      <td>15563</td>\n      <td>no</td>\n      <td>premium</td>\n      <td>bachelor</td>\n      <td>1/19/11</td>\n      <td>jan</td>\n      <td>unemployed</td>\n      <td>f</td>\n      <td>...</td>\n      <td>40</td>\n      <td>2</td>\n      <td>7</td>\n      <td>personal auto</td>\n      <td>personal l1</td>\n      <td>offer3</td>\n      <td>web</td>\n      <td>1214</td>\n      <td>luxury car</td>\n      <td>medsize</td>\n    </tr>\n    <tr>\n      <th>10685</th>\n      <td>10685</td>\n      <td>north west</td>\n      <td>5259</td>\n      <td>no</td>\n      <td>basic</td>\n      <td>college</td>\n      <td>1/6/11</td>\n      <td>jan</td>\n      <td>employed</td>\n      <td>f</td>\n      <td>...</td>\n      <td>68</td>\n      <td>0</td>\n      <td>6</td>\n      <td>personal auto</td>\n      <td>personal l3</td>\n      <td>offer2</td>\n      <td>branch</td>\n      <td>273</td>\n      <td>four-door car</td>\n      <td>medsize</td>\n    </tr>\n    <tr>\n      <th>10686</th>\n      <td>10686</td>\n      <td>central</td>\n      <td>23893</td>\n      <td>no</td>\n      <td>extended</td>\n      <td>bachelor</td>\n      <td>2/6/11</td>\n      <td>feb</td>\n      <td>employed</td>\n      <td>f</td>\n      <td>...</td>\n      <td>63</td>\n      <td>0</td>\n      <td>2</td>\n      <td>corporate auto</td>\n      <td>corporate l3</td>\n      <td>offer1</td>\n      <td>web</td>\n      <td>381</td>\n      <td>luxury suv</td>\n      <td>medsize</td>\n    </tr>\n    <tr>\n      <th>10687</th>\n      <td>10687</td>\n      <td>west region</td>\n      <td>11971</td>\n      <td>no</td>\n      <td>premium</td>\n      <td>college</td>\n      <td>2/13/11</td>\n      <td>feb</td>\n      <td>employed</td>\n      <td>f</td>\n      <td>...</td>\n      <td>27</td>\n      <td>4</td>\n      <td>6</td>\n      <td>personal auto</td>\n      <td>personal l1</td>\n      <td>offer1</td>\n      <td>branch</td>\n      <td>618</td>\n      <td>suv</td>\n      <td>medsize</td>\n    </tr>\n    <tr>\n      <th>10688</th>\n      <td>10688</td>\n      <td>west region</td>\n      <td>6857</td>\n      <td>no</td>\n      <td>basic</td>\n      <td>bachelor</td>\n      <td>1/8/11</td>\n      <td>jan</td>\n      <td>unemployed</td>\n      <td>m</td>\n      <td>...</td>\n      <td>1</td>\n      <td>0</td>\n      <td>3</td>\n      <td>personal auto</td>\n      <td>personal l1</td>\n      <td>offer4</td>\n      <td>web</td>\n      <td>1021</td>\n      <td>suv</td>\n      <td>medsize</td>\n    </tr>\n  </tbody>\n</table>\n<p>10689 rows × 25 columns</p>\n</div>"
     },
     "execution_count": 5,
     "metadata": {},
     "output_type": "execute_result"
    }
   ],
   "source": [
    "c2_df"
   ],
   "metadata": {
    "collapsed": false
   }
  },
  {
   "cell_type": "code",
   "execution_count": 6,
   "id": "57257b44",
   "metadata": {
    "hidden": true
   },
   "outputs": [
    {
     "data": {
      "text/plain": "Index(['Unnamed: 0', 'region', 'customer_lifetime_value', 'response',\n       'coverage', 'education', 'effective_to_date', 'month',\n       'employment_status', 'gender', 'income', 'location_code',\n       'marital_status', 'monthly_premium_auto', 'months_since_last_claim',\n       'months_since_policy_inception', 'number_of_open_complaints',\n       'number_of_policies', 'policy_type', 'policy', 'renew_offer_type',\n       'sales_channel', 'total_claim_amount', 'vehicle_class', 'vehicle_size'],\n      dtype='object')"
     },
     "execution_count": 6,
     "metadata": {},
     "output_type": "execute_result"
    }
   ],
   "source": [
    "c2_df.columns"
   ]
  },
  {
   "cell_type": "code",
   "execution_count": 7,
   "outputs": [],
   "source": [
    "X = c2_df.drop(['total_claim_amount','effective_to_date'], axis=1) # trimmed target var\n",
    "y = c2_df.total_claim_amount # trimmed independent var (vec)`\n",
    "\n",
    "dM_n = X.select_dtypes(exclude=object)\n",
    "dM_c = pd.get_dummies(X.select_dtypes(include=object))\n",
    "\n",
    "# Index List of Non-Outliers\n",
    "nonOutlierList = Remove_Outlier_Indices(dM_n)\n",
    "\n",
    "dM_c = dM_c[nonOutlierList.all(1)]\n",
    "dM_n = dM_n[nonOutlierList.all(1)]\n",
    "\n",
    "X = pd.concat([dM_n,dM_c],axis=1)\n",
    "y = y[nonOutlierList.all(1)]"
   ],
   "metadata": {
    "collapsed": false
   }
  },
  {
   "cell_type": "code",
   "execution_count": 8,
   "id": "7f469129",
   "metadata": {},
   "outputs": [],
   "source": [
    "TEST_SIZE = .25\n",
    "RANDOM_STATE = 123 # reproduce the same results. disables randomization\n",
    "X_train, X_test, y_train, y_test = train_test_split(X, y, test_size=TEST_SIZE,random_state=RANDOM_STATE)"
   ]
  },
  {
   "cell_type": "code",
   "execution_count": 9,
   "outputs": [],
   "source": [
    "transformer = StandardScaler()\n",
    "transformer.fit(X_train)\n",
    "X_test = transformer.transform(X_test)\n",
    "X_train = transformer.transform(X_train)"
   ],
   "metadata": {
    "collapsed": false
   }
  },
  {
   "cell_type": "markdown",
   "id": "de7337d1",
   "metadata": {},
   "source": [
    "### Apply linear regression model"
   ]
  },
  {
   "cell_type": "code",
   "execution_count": 9,
   "outputs": [],
   "source": [],
   "metadata": {
    "collapsed": false
   }
  },
  {
   "cell_type": "code",
   "execution_count": 10,
   "id": "54a62598",
   "metadata": {},
   "outputs": [],
   "source": [
    "model = LinearRegression()   # model is y = SUM(slopes*Xs) + intercept\n",
    "model.fit(X_train, y_train) # compute for me the coefficients (slopes and intercept)\n",
    "y_pred       = model.predict(X_test)   # model prediction [test]\n",
    "y_pred_train = model.predict(X_train)  # model prediction [train]"
   ]
  },
  {
   "cell_type": "code",
   "execution_count": 11,
   "id": "0d5c9337",
   "metadata": {},
   "outputs": [
    {
     "data": {
      "text/plain": "[<matplotlib.lines.Line2D at 0x141d76940>]"
     },
     "execution_count": 11,
     "metadata": {},
     "output_type": "execute_result"
    },
    {
     "data": {
      "text/plain": "<Figure size 1008x288 with 3 Axes>",
      "image/png": "[encoded data removed]"
     },
     "metadata": {
      "needs_background": "light"
     },
     "output_type": "display_data"
    }
   ],
   "source": [
    "fig, ax = plt.subplots(1,3,figsize=(14,4))\n",
    "\n",
    "# forms a line?\n",
    "ax[0].plot(y_pred, y_test, 'o')\n",
    "ax[0].set_xlabel(\"y_test\")\n",
    "ax[0].set_ylabel(\"y_pred\")\n",
    "ax[0].set_title(\"Test Set -Predicted vs real\")\n",
    "\n",
    "# normal distribution?\n",
    "ax[1].hist(y_test - y_pred)\n",
    "ax[1].set_xlabel(\"Test y-y_pred\")\n",
    "ax[1].set_title(\"Test Set Residual histogram\")\n",
    "\n",
    "# constant?\n",
    "ax[2].plot(y_pred,y_test - y_pred,\"o\")\n",
    "ax[2].set_xlabel(\"predited\")\n",
    "ax[2].set_ylabel(\"residuals\")\n",
    "ax[2].set_title(\"Residuals by Predicted\")\n",
    "ax[2].plot(y_pred,np.zeros(len(y_pred)),linestyle='dashed')"
   ]
  },
  {
   "cell_type": "code",
   "execution_count": 12,
   "id": "aba7ef44",
   "metadata": {},
   "outputs": [
    {
     "data": {
      "text/plain": "<AxesSubplot:xlabel='y_pred', ylabel='y_test'>"
     },
     "execution_count": 12,
     "metadata": {},
     "output_type": "execute_result"
    },
    {
     "data": {
      "text/plain": "<Figure size 432x288 with 1 Axes>",
      "image/png": "[encoded data removed]"
     },
     "metadata": {
      "needs_background": "light"
     },
     "output_type": "display_data"
    }
   ],
   "source": [
    "sns.regplot(x='y_pred',y='y_test', data=pd.DataFrame({\"y_test\": y_test, \"y_pred\": y_pred}) ,\n",
    "            scatter_kws={\"color\": \"red\"}, line_kws={\"color\": \"black\"})"
   ]
  },
  {
   "cell_type": "code",
   "execution_count": 13,
   "outputs": [
    {
     "data": {
      "text/plain": "(0.7395693056886321, 0.7294584669683084)"
     },
     "execution_count": 13,
     "metadata": {},
     "output_type": "execute_result"
    }
   ],
   "source": [
    "R2=r2_score(y_test,y_pred)\n",
    "Adj_R2= 1 - (1-R2)*(len(y_test)-1)/(len(y_test)-X_test.shape[1]-1)\n",
    "R2,Adj_R2"
   ],
   "metadata": {
    "collapsed": false
   }
  },
  {
   "cell_type": "code",
   "execution_count": 15,
   "outputs": [],
   "source": [
    "import statsmodels.api as sm"
   ],
   "metadata": {
    "collapsed": false
   }
  },
  {
   "cell_type": "code",
   "execution_count": 17,
   "outputs": [
    {
     "name": "stdout",
     "output_type": "stream",
     "text": [
      "                            OLS Regression Results                            \n",
      "==============================================================================\n",
      "Dep. Variable:     total_claim_amount   R-squared:                       0.753\n",
      "Model:                            OLS   Adj. R-squared:                  0.751\n",
      "Method:                 Least Squares   F-statistic:                     333.7\n",
      "Date:                Wed, 01 Feb 2023   Prob (F-statistic):               0.00\n",
      "Time:                        07:37:57   Log-Likelihood:                -32781.\n",
      "No. Observations:                5299   AIC:                         6.566e+04\n",
      "Df Residuals:                    5250   BIC:                         6.598e+04\n",
      "Df Model:                          48                                         \n",
      "Covariance Type:            nonrobust                                         \n",
      "==============================================================================\n",
      "                 coef    std err          t      P>|t|      [0.025      0.975]\n",
      "------------------------------------------------------------------------------\n",
      "const        401.9612      1.720    233.666      0.000     398.589     405.334\n",
      "x1             0.5122      1.650      0.310      0.756      -2.723       3.748\n",
      "x2            -2.6955      1.948     -1.383      0.167      -6.515       1.124\n",
      "x3            -4.8518      1.950     -2.488      0.013      -8.675      -1.029\n",
      "x4           107.2776      4.793     22.381      0.000      97.881     116.674\n",
      "x5             2.8149      1.649      1.707      0.088      -0.418       6.048\n",
      "x6            -4.1476      1.660     -2.498      0.013      -7.402      -0.893\n",
      "x7          3.119e+13   3.48e+13      0.897      0.370    -3.7e+13    9.94e+13\n",
      "x8             4.4076      1.734      2.542      0.011       1.008       7.807\n",
      "x9         -5.641e+13   4.82e+13     -1.170      0.242   -1.51e+14    3.81e+13\n",
      "x10        -3.499e+13   2.99e+13     -1.170      0.242   -9.36e+13    2.37e+13\n",
      "x11        -5.638e+13   4.82e+13     -1.170      0.242   -1.51e+14    3.81e+13\n",
      "x12        -5.917e+13   5.06e+13     -1.170      0.242   -1.58e+14       4e+13\n",
      "x13        -3.934e+13    9.2e+13     -0.427      0.669    -2.2e+14    1.41e+14\n",
      "x14        -3.934e+13    9.2e+13     -0.427      0.669    -2.2e+14    1.41e+14\n",
      "x15        -9.222e+13   1.15e+14     -0.803      0.422   -3.17e+14    1.33e+14\n",
      "x16        -8.717e+13   1.09e+14     -0.803      0.422      -3e+14    1.26e+14\n",
      "x17        -5.135e+13   6.39e+13     -0.803      0.422   -1.77e+14     7.4e+13\n",
      "x18          1.77e+14    3.1e+14      0.572      0.568    -4.3e+14    7.84e+14\n",
      "x19         1.762e+14   3.08e+14      0.572      0.568   -4.28e+14    7.81e+14\n",
      "x20         7.337e+13   1.28e+14      0.572      0.568   -1.78e+14    3.25e+14\n",
      "x21         1.742e+14   3.05e+14      0.572      0.568   -4.23e+14    7.72e+14\n",
      "x22         1.047e+14   1.83e+14      0.572      0.568   -2.54e+14    4.64e+14\n",
      "x23        -4.496e+14   3.93e+14     -1.145      0.252   -1.22e+15     3.2e+14\n",
      "x24        -4.496e+14   3.93e+14     -1.145      0.252   -1.22e+15     3.2e+14\n",
      "x25        -1.684e+14   2.27e+14     -0.741      0.459   -6.14e+14    2.77e+14\n",
      "x26        -3.845e+14   5.19e+14     -0.741      0.459    -1.4e+15    6.33e+14\n",
      "x27        -1.661e+14   2.24e+14     -0.741      0.459   -6.06e+14    2.74e+14\n",
      "x28         -1.24e+14   1.67e+14     -0.741      0.459   -4.52e+14    2.04e+14\n",
      "x29        -3.479e+14    4.7e+14     -0.741      0.459   -1.27e+15    5.73e+14\n",
      "x30         3.832e+13   3.99e+13      0.960      0.337   -3.99e+13    1.17e+14\n",
      "x31         3.832e+13   3.99e+13      0.960      0.337   -3.99e+13    1.17e+14\n",
      "x32          -1.9e+14   4.23e+14     -0.449      0.653   -1.02e+15    6.39e+14\n",
      "x33         -2.33e+14   5.19e+14     -0.449      0.653   -1.25e+15    7.84e+14\n",
      "x34        -1.866e+14   4.15e+14     -0.449      0.653      -1e+15    6.28e+14\n",
      "x35         1.249e+13   5.05e+13      0.247      0.805   -8.66e+13    1.12e+14\n",
      "x36         1.739e+13   7.04e+13      0.247      0.805   -1.21e+14    1.55e+14\n",
      "x37         1.568e+13   6.35e+13      0.247      0.805   -1.09e+14     1.4e+14\n",
      "x38         9.637e+12   5.39e+14      0.018      0.986   -1.05e+15    1.07e+15\n",
      "x39        -8.767e+13   4.29e+14     -0.204      0.838    -9.3e+14    7.54e+14\n",
      "x40        -2.445e+13   1.17e+14     -0.208      0.835   -2.54e+14    2.06e+14\n",
      "x41        -4.685e+12   5.01e+13     -0.093      0.926   -1.03e+14    9.36e+13\n",
      "x42         -5.81e+12   6.22e+13     -0.093      0.926   -1.28e+14    1.16e+14\n",
      "x43        -7.458e+12   7.98e+13     -0.093      0.926   -1.64e+14    1.49e+14\n",
      "x44         6.967e+13    6.9e+13      1.010      0.313   -6.56e+13    2.05e+14\n",
      "x45         8.407e+13   8.32e+13      1.010      0.313   -7.91e+13    2.47e+14\n",
      "x46         9.683e+13   9.59e+13      1.010      0.313   -9.11e+13    2.85e+14\n",
      "x47         1.067e+13    4.7e+13      0.227      0.820   -8.14e+13    1.03e+14\n",
      "x48         1.632e+13   7.19e+13      0.227      0.820   -1.25e+14    1.57e+14\n",
      "x49         1.521e+13    6.7e+13      0.227      0.820   -1.16e+14    1.46e+14\n",
      "x50        -5.898e+13   6.12e+13     -0.963      0.335   -1.79e+14    6.11e+13\n",
      "x51        -5.754e+13   5.97e+13     -0.963      0.335   -1.75e+14    5.96e+13\n",
      "x52        -4.448e+13   4.62e+13     -0.963      0.335   -1.35e+14     4.6e+13\n",
      "x53        -3.959e+13   4.11e+13     -0.963      0.335    -1.2e+14     4.1e+13\n",
      "x54         1.206e+14   7.64e+13      1.579      0.114   -2.92e+13     2.7e+14\n",
      "x55          1.12e+14   7.09e+13      1.579      0.114   -2.71e+13    2.51e+14\n",
      "x56         9.931e+13   6.29e+13      1.579      0.114    -2.4e+13    2.23e+14\n",
      "x57         8.985e+13   5.69e+13      1.579      0.114   -2.17e+13    2.01e+14\n",
      "x58         1.197e+13   1.33e+13      0.900      0.368   -1.41e+13    3.81e+13\n",
      "x59         3.299e+11   3.67e+11      0.900      0.368   -3.89e+11    1.05e+12\n",
      "x60         7.373e+11    8.2e+11      0.900      0.368   -8.69e+11    2.34e+12\n",
      "x61         5.253e+12   5.84e+12      0.900      0.368   -6.19e+12    1.67e+13\n",
      "x62         9.421e+12   1.05e+13      0.900      0.368   -1.11e+13       3e+13\n",
      "x63         9.951e+12   1.11e+13      0.900      0.368   -1.17e+13    3.16e+13\n",
      "x64        -3.552e+14   3.05e+14     -1.163      0.245   -9.54e+14    2.44e+14\n",
      "x65        -5.272e+14   4.53e+14     -1.163      0.245   -1.42e+15    3.61e+14\n",
      "x66        -4.533e+14    3.9e+14     -1.163      0.245   -1.22e+15    3.11e+14\n",
      "==============================================================================\n",
      "Omnibus:                     1878.397   Durbin-Watson:                   2.013\n",
      "Prob(Omnibus):                  0.000   Jarque-Bera (JB):            10877.006\n",
      "Skew:                           1.582   Prob(JB):                         0.00\n",
      "Kurtosis:                       9.265   Cond. No.                     1.93e+16\n",
      "==============================================================================\n",
      "\n",
      "Notes:\n",
      "[1] Standard Errors assume that the covariance matrix of the errors is correctly specified.\n",
      "[2] The smallest eigenvalue is 4.66e-29. This might indicate that there are\n",
      "strong multicollinearity problems or that the design matrix is singular.\n"
     ]
    }
   ],
   "source": [
    "X_train_const_ct = sm.add_constant(X_train) # adding a constant\n",
    "\n",
    "model = sm.OLS(y_train, X_train_const_ct).fit()\n",
    "predictions_train = model.predict(X_train_const_ct)\n",
    "\n",
    "X_test_const_ct = sm.add_constant(X_test) # adding a constant\n",
    "predictions_test = model.predict(X_test_const_ct)\n",
    "print_model = model.summary()\n",
    "print(print_model)\n"
   ],
   "metadata": {
    "collapsed": false
   }
  },
  {
   "cell_type": "code",
   "execution_count": null,
   "outputs": [],
   "source": [
    "from statsmodels.formula.api import ols"
   ],
   "metadata": {
    "collapsed": false
   }
  }
 ],
 "metadata": {
  "kernelspec": {
   "display_name": "Python 3 (ipykernel)",
   "language": "python",
   "name": "python3"
  },
  "language_info": {
   "codemirror_mode": {
    "name": "ipython",
    "version": 3
   },
   "file_extension": ".py",
   "mimetype": "text/x-python",
   "name": "python",
   "nbconvert_exporter": "python",
   "pygments_lexer": "ipython3",
   "version": "3.9.13"
  },
  "toc": {
   "base_numbering": 1,
   "nav_menu": {},
   "number_sections": true,
   "sideBar": true,
   "skip_h1_title": false,
   "title_cell": "Table of Contents",
   "title_sidebar": "Contents",
   "toc_cell": false,
   "toc_position": {
    "height": "calc(100% - 180px)",
    "left": "10px",
    "top": "150px",
    "width": "271.6px"
   },
   "toc_section_display": true,
   "toc_window_display": true
  },
  "varInspector": {
   "cols": {
    "lenName": 16,
    "lenType": 16,
    "lenVar": 40
   },
   "kernels_config": {
    "python": {
     "delete_cmd_postfix": "",
     "delete_cmd_prefix": "del ",
     "library": "var_list.py",
     "varRefreshCmd": "print(var_dic_list())"
    },
    "r": {
     "delete_cmd_postfix": ") ",
     "delete_cmd_prefix": "rm(",
     "library": "var_list.r",
     "varRefreshCmd": "cat(var_dic_list()) "
    }
   },
   "types_to_exclude": [
    "module",
    "function",
    "builtin_function_or_method",
    "instance",
    "_Feature"
   ],
   "window_display": false
  }
 },
 "nbformat": 4,
 "nbformat_minor": 5
}
