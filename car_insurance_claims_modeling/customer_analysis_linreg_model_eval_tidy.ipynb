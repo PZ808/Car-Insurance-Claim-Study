{
 "cells": [
  {
   "cell_type": "markdown",
   "source": [
    "# Linear Regression: Predicting Car Insurance Claim Amounts\n",
    "## Model Performance Evaluation"
   ],
   "metadata": {
    "collapsed": false
   }
  },
  {
   "cell_type": "code",
   "execution_count": 38,
   "outputs": [],
   "source": [
    "import numpy as np\n",
    "import pandas as pd\n",
    "import matplotlib.pyplot as plt\n",
    "import seaborn as sns\n",
    "from scipy.stats import boxcox\n",
    "from scipy.stats import norm\n",
    "import math\n",
    "%matplotlib inline\n",
    "pd.options.display.max_rows = 40\n",
    "import warnings\n",
    "\n",
    "import seaborn as sns\n",
    "from sklearn.preprocessing import StandardScaler, OneHotEncoder\n",
    "from sklearn.compose import ColumnTransformer\n",
    "from sklearn.linear_model import LinearRegression, Lasso,Ridge\n",
    "\n",
    "import statsmodels.api as sm\n",
    "from sklearn.model_selection import train_test_split\n",
    "from sklearn.metrics import r2_score\n",
    "from skimpy import clean_columns\n",
    "from nltk.metrics import edit_distance\n",
    "\n",
    "warnings.simplefilter(action='ignore', category=FutureWarning)"
   ],
   "metadata": {
    "collapsed": false
   }
  },
  {
   "cell_type": "code",
   "execution_count": 39,
   "outputs": [],
   "source": [
    "class Cleaner:\n",
    "    def __init__(self, df):\n",
    "\n",
    "        self.cdf = clean_columns(df,case='snake')\n",
    "        self.numerics_df =  self.cdf.select_dtypes(include=[np.number])\n",
    "        self.numeric_cols = self.numerics_df.columns.values\n",
    "        self.cats_df =   self.cdf.select_dtypes(include=object)\n",
    "        self.cat_cols = self.cats_df.columns.values\n",
    "\n",
    "    def drop_dups(self):\n",
    "        df = self.cdf\n",
    "        df_dedupped = df.drop_duplicates()\n",
    "        # there were duplicate rows\n",
    "        print('Dropping {} duplicates'.format(df.shape[0] - df_dedupped.shape[0]))\n",
    "        df = df_dedupped\n",
    "\n",
    "    def drop_select_dups(self, keys):\n",
    "        #df.fillna(-999).groupby(keys)['id'].count().sort_values(ascending=False).head(20)\n",
    "        self.cdf = self.cdf.drop_duplicates(subset=keys)\n",
    "\n",
    "    def show_missing(self):\n",
    "        for col in self.cdf.columns:\n",
    "            pct_missing = np.mean(self.cdf[col].isnull())\n",
    "            print('{} - {}%'.format(col, round(pct_missing*100)))\n",
    "\n",
    "    def drop_missing(self, replace=False):\n",
    "        df = self.cdf\n",
    "        # first create missing indicator for features with missing data\n",
    "        for col in df.columns:\n",
    "            missing = df[col].isnull()\n",
    "            num_missing = np.sum(missing)\n",
    "            if num_missing > 0:\n",
    "                print('created missing indicator for: {}'.format(col))\n",
    "                df['{}_ismissing'.format(col)] = missing\n",
    "\n",
    "            if replace == True:\n",
    "                # categorical\n",
    "                if col in set(self.numeric_cols):\n",
    "                    print('Numerical column '+col+' has missing values.')\n",
    "                    filler = input('Input a filler value (e.g. -999).')\n",
    "                    df[col] = df[col].fillna(filler).astype(int)\n",
    "                else:\n",
    "                    print('Categorical column '+col+' has missing values.')\n",
    "                    filler = input('Input a filler value (e.g. _MISSING_). ')\n",
    "                    df[col] = df[col].fillna(filler)\n",
    "\n",
    "        if replace == False:\n",
    "            from math import ceil\n",
    "            cut_off = ceil(0.50*len(df.columns)) # if a row is missing more than 10% of its entries drop it\n",
    "            ismissing_cols = [col for col in df.columns if 'ismissing' in col]\n",
    "            df['num_missing'] = df[ismissing_cols].sum(axis=1)\n",
    "            # drop rows with a lot of missing values.\n",
    "            ind_missing = df[df['num_missing'] > cut_off].index\n",
    "            df = df.drop(ind_missing, axis=0)\n",
    "\n",
    "    def impute_numerics(self):\n",
    "        df = self.cdf\n",
    "        for col in self.numeric_cols:\n",
    "            missing = df[col].isnull()\n",
    "            num_missing = np.sum(missing)\n",
    "\n",
    "            if num_missing > 0:  # only do the imputation for the columns that have missing values.\n",
    "                print('imputing missing values for: {}'.format(col))\n",
    "                #df['{}_ismissing'.format(col)] = missing\n",
    "                med = df[col].median()\n",
    "                df[col] = df[col].fillna(med)\n",
    "\n",
    "    def impute_cats(self):\n",
    "        df = self.cdf\n",
    "        for col in self.cat_cols:\n",
    "            missing = df[col].isnull()\n",
    "            num_missing = np.sum(missing)\n",
    "\n",
    "            if num_missing > 0:  # only do the imputation for the columns that have missing values.\n",
    "                print('imputing missing values for: {}'.format(col))\n",
    "                #df['{}_ismissing'.format(col)] = missing\n",
    "                top = df[col].describe()['top'] # impute with the most frequent value.\n",
    "                df[col] = df[col].fillna(top)\n",
    "\n",
    "    def redundants(self):\n",
    "        df = self.cdf\n",
    "        num_rows = len(df.index)\n",
    "        low_information_cols = [] #\n",
    "\n",
    "        for col in df.columns:\n",
    "            cnts = df[col].value_counts(dropna=False)\n",
    "            top_pct = (cnts/num_rows).iloc[0]\n",
    "\n",
    "            if top_pct > 0.95:\n",
    "                low_information_cols.append(col)\n",
    "                print('{0}: {1:.5f}%'.format(col, top_pct*100))\n",
    "                print(cnts)\n",
    "                print()\n",
    "\n",
    "\n",
    "    def col_rename(self, dict_rules):\n",
    "        ''' rename columns in data frame using a dictionary of rules  '''\n",
    "        if isinstance(dict_rules,dict):\n",
    "            self.cdf.rename(columns = dict_rules, inplace=True)\n",
    "        else:\n",
    "            raise TypeError\n",
    "\n",
    "    def expand_timestamp(self, time_colname):\n",
    "        df = self.cdf\n",
    "        df['timestamp_dt'] = pd.to_datetime(df[time_colname], format='%Y-%m-%d')\n",
    "        df['year'] = df['timestamp_dt'].dt.year\n",
    "        df['month'] = df['timestamp_dt'].dt.month\n",
    "        df['weekday'] = df['timestamp_dt'].dt.weekday\n",
    "\n",
    "        print(df['year'].value_counts(dropna=False))\n",
    "        print()\n",
    "        print(df['month'].value_counts(dropna=False))\n",
    "\n",
    "    def get_typos(self,colname, word):\n",
    "        tmp = pd.DataFrame([])\n",
    "        tmp[colname] = self.cdf[colname]\n",
    "        cn = 'distance_'+word\n",
    "        tmp[cn] = self.cdf[colname].map(lambda x: edit_distance(x, word))\n",
    "        return tmp.value_counts()\n",
    "\n",
    "    def fix_typos(self,colname, word, dist=2):\n",
    "        tmp = self.cdf.copy()\n",
    "        tmp[colname] = self.cdf[colname]\n",
    "        cn = 'distance_'+word\n",
    "        tmp[cn] = self.cdf[colname].map(lambda x: edit_distance(x, word))\n",
    "        msk = tmp[cn] <= dist\n",
    "        self.cdf.loc[msk, colname] = word\n",
    "\n",
    "    def row_string_replace(self, colname, replacement_dict):\n",
    "        self.cdf[colname] = self.cdf[colname].replace(replacement_dict)\n",
    "\n"
   ],
   "metadata": {
    "collapsed": false
   }
  },
  {
   "cell_type": "markdown",
   "source": [
    "### Read and clean the data"
   ],
   "metadata": {
    "collapsed": false
   }
  },
  {
   "cell_type": "code",
   "execution_count": 40,
   "outputs": [],
   "source": [
    "c_df = pd.read_csv('../Data/Data_Marketing_Customer_Analysis_Round3.csv') # precleaned data"
   ],
   "metadata": {
    "collapsed": false
   }
  },
  {
   "cell_type": "code",
   "execution_count": 41,
   "outputs": [
    {
     "name": "stdout",
     "output_type": "stream",
     "text": [
      "<class 'pandas.core.frame.DataFrame'>\n",
      "RangeIndex: 10689 entries, 0 to 10688\n",
      "Data columns (total 25 columns):\n",
      " #   Column                         Non-Null Count  Dtype \n",
      "---  ------                         --------------  ----- \n",
      " 0   Unnamed: 0                     10689 non-null  int64 \n",
      " 1   region                         10689 non-null  object\n",
      " 2   customer_lifetime_value        10689 non-null  int64 \n",
      " 3   response                       10689 non-null  object\n",
      " 4   coverage                       10689 non-null  object\n",
      " 5   education                      10689 non-null  object\n",
      " 6   effective_to_date              10689 non-null  object\n",
      " 7   month                          10689 non-null  object\n",
      " 8   employment_status              10689 non-null  object\n",
      " 9   gender                         10689 non-null  object\n",
      " 10  income                         10689 non-null  int64 \n",
      " 11  location_code                  10689 non-null  object\n",
      " 12  marital_status                 10689 non-null  object\n",
      " 13  monthly_premium_auto           10689 non-null  int64 \n",
      " 14  months_since_last_claim        10689 non-null  int64 \n",
      " 15  months_since_policy_inception  10689 non-null  int64 \n",
      " 16  number_of_open_complaints      10689 non-null  int64 \n",
      " 17  number_of_policies             10689 non-null  int64 \n",
      " 18  policy_type                    10689 non-null  object\n",
      " 19  policy                         10689 non-null  object\n",
      " 20  renew_offer_type               10689 non-null  object\n",
      " 21  sales_channel                  10689 non-null  object\n",
      " 22  total_claim_amount             10689 non-null  int64 \n",
      " 23  vehicle_class                  10689 non-null  object\n",
      " 24  vehicle_size                   10689 non-null  object\n",
      "dtypes: int64(9), object(16)\n",
      "memory usage: 2.0+ MB\n"
     ]
    }
   ],
   "source": [
    "c_df.info()"
   ],
   "metadata": {
    "collapsed": false
   }
  },
  {
   "cell_type": "code",
   "execution_count": 42,
   "outputs": [],
   "source": [
    "c_df.drop(labels=['Unnamed: 0'],axis=1,inplace=True) # drop the unnamed field"
   ],
   "metadata": {
    "collapsed": false
   }
  },
  {
   "cell_type": "code",
   "execution_count": 43,
   "outputs": [],
   "source": [
    "numerics_df   = c_df.select_dtypes(include=np.number) # get numerical columns using the select_dtypes method\n",
    "cats_df       = c_df.select_dtypes(include=object)    # get non-numeric columns"
   ],
   "metadata": {
    "collapsed": false
   }
  },
  {
   "cell_type": "markdown",
   "source": [
    "Remove outliers"
   ],
   "metadata": {
    "collapsed": false
   }
  },
  {
   "cell_type": "code",
   "execution_count": 44,
   "outputs": [
    {
     "data": {
      "text/plain": "8"
     },
     "execution_count": 44,
     "metadata": {},
     "output_type": "execute_result"
    }
   ],
   "source": [
    "len(numerics_df.columns)"
   ],
   "metadata": {
    "collapsed": false
   }
  },
  {
   "cell_type": "code",
   "execution_count": 45,
   "outputs": [
    {
     "data": {
      "text/plain": "<Figure size 1800x360 with 6 Axes>",
      "image/png": "[encoded data removed]"
     },
     "metadata": {
      "needs_background": "light"
     },
     "output_type": "display_data"
    }
   ],
   "source": [
    "fig, ax = plt.subplots(1,6, figsize = (25,5))\n",
    "\n",
    "for i in range(1,7):\n",
    "    plt.subplot(1,6,i)\n",
    "    plt.boxplot(numerics_df.drop(['number_of_open_complaints','number_of_policies'],axis=1).iloc[:,i-1])\n",
    "    plt.title(f'{numerics_df.columns[i-1].upper()}')"
   ],
   "metadata": {
    "collapsed": false
   }
  },
  {
   "cell_type": "code",
   "execution_count": 46,
   "outputs": [],
   "source": [
    "def outlier_mask(df):\n",
    "    \"\"\" returns a df of boolean values to used to index a trimmed table in the 1.5*IQR range\"\"\"\n",
    "    q1 = df.quantile(0.05)\n",
    "    q3 = df.quantile(0.95)\n",
    "    iqr = q3 - q1\n",
    "    return  ~((df < (q1 -  1.5*iqr)) |(df > (q3 + 1.5*iqr)))"
   ],
   "metadata": {
    "collapsed": false
   }
  },
  {
   "cell_type": "code",
   "execution_count": 47,
   "outputs": [
    {
     "data": {
      "text/plain": "['customer_lifetime_value',\n 'income',\n 'months_since_last_claim',\n 'months_since_policy_inception',\n 'number_of_open_complaints',\n 'number_of_policies',\n 'total_claim_amount']"
     },
     "execution_count": 47,
     "metadata": {},
     "output_type": "execute_result"
    }
   ],
   "source": [
    "cols_to_trim = list(numerics_df.drop(['monthly_premium_auto'],axis=1).columns)\n",
    "cols_to_trim"
   ],
   "metadata": {
    "collapsed": false
   }
  },
  {
   "cell_type": "code",
   "execution_count": 48,
   "outputs": [],
   "source": [
    "# boolean index list of \"inliers\"\n",
    "inliers = outlier_mask(numerics_df[cols_to_trim]).all(1)\n",
    "# select subset of the data\n",
    "numerics_df = numerics_df[inliers]"
   ],
   "metadata": {
    "collapsed": false
   }
  },
  {
   "cell_type": "code",
   "execution_count": 49,
   "outputs": [],
   "source": [
    "c_df = pd.concat([cats_df, numerics_df],axis=1)"
   ],
   "metadata": {
    "collapsed": false
   }
  },
  {
   "cell_type": "code",
   "execution_count": 50,
   "outputs": [
    {
     "data": {
      "text/plain": "\u001B[1;36m0\u001B[0m column names have been cleaned\n",
      "text/html": "<pre style=\"white-space:pre;overflow-x:auto;line-height:normal;font-family:Menlo,'DejaVu Sans Mono',consolas,'Courier New',monospace\"><span style=\"color: #008080; text-decoration-color: #008080; font-weight: bold\">0</span> column names have been cleaned\n</pre>\n"
     },
     "metadata": {},
     "output_type": "display_data"
    }
   ],
   "source": [
    "clnr = Cleaner(c_df)"
   ],
   "metadata": {
    "collapsed": false
   }
  },
  {
   "cell_type": "code",
   "execution_count": 51,
   "outputs": [
    {
     "name": "stdout",
     "output_type": "stream",
     "text": [
      "imputing missing values for: customer_lifetime_value\n",
      "imputing missing values for: income\n",
      "imputing missing values for: monthly_premium_auto\n",
      "imputing missing values for: months_since_last_claim\n",
      "imputing missing values for: months_since_policy_inception\n",
      "imputing missing values for: number_of_open_complaints\n",
      "imputing missing values for: number_of_policies\n",
      "imputing missing values for: total_claim_amount\n"
     ]
    }
   ],
   "source": [
    "clnr.impute_numerics()"
   ],
   "metadata": {
    "collapsed": false
   }
  },
  {
   "cell_type": "code",
   "execution_count": 52,
   "outputs": [],
   "source": [
    "c_df = clnr.cdf"
   ],
   "metadata": {
    "collapsed": false
   }
  },
  {
   "cell_type": "code",
   "execution_count": 53,
   "outputs": [],
   "source": [
    "X = c_df.drop(['monthly_premium_auto'],axis=1)\n",
    "y = c_df['monthly_premium_auto']"
   ],
   "metadata": {
    "collapsed": false
   }
  },
  {
   "cell_type": "code",
   "execution_count": 54,
   "outputs": [
    {
     "data": {
      "text/plain": "(10689,)"
     },
     "execution_count": 54,
     "metadata": {},
     "output_type": "execute_result"
    }
   ],
   "source": [
    "y.shape"
   ],
   "metadata": {
    "collapsed": false
   }
  },
  {
   "cell_type": "code",
   "execution_count": 55,
   "outputs": [
    {
     "data": {
      "text/plain": "region                           0\nresponse                         0\ncoverage                         0\neducation                        0\neffective_to_date                0\nmonth                            0\nemployment_status                0\ngender                           0\nlocation_code                    0\nmarital_status                   0\npolicy_type                      0\npolicy                           0\nrenew_offer_type                 0\nsales_channel                    0\nvehicle_class                    0\nvehicle_size                     0\ncustomer_lifetime_value          0\nincome                           0\nmonthly_premium_auto             0\nmonths_since_last_claim          0\nmonths_since_policy_inception    0\nnumber_of_open_complaints        0\nnumber_of_policies               0\ntotal_claim_amount               0\ndtype: int64"
     },
     "execution_count": 55,
     "metadata": {},
     "output_type": "execute_result"
    }
   ],
   "source": [
    "c_df.isnull().sum()"
   ],
   "metadata": {
    "collapsed": false
   }
  },
  {
   "cell_type": "code",
   "execution_count": 56,
   "outputs": [],
   "source": [
    "X.drop(['effective_to_date'],axis=1,inplace=True)"
   ],
   "metadata": {
    "collapsed": false
   }
  },
  {
   "cell_type": "code",
   "execution_count": 57,
   "outputs": [],
   "source": [
    "TEST_SIZE = 0.30\n",
    "RANDOM_STATE = 32 # reproduce the same results. disables randomization"
   ],
   "metadata": {
    "collapsed": false
   }
  },
  {
   "cell_type": "markdown",
   "source": [
    "## Linear Regression Model"
   ],
   "metadata": {
    "collapsed": false
   }
  },
  {
   "cell_type": "code",
   "execution_count": 81,
   "outputs": [],
   "source": [
    "X_train, X_test, y_train, y_test = train_test_split(X, y, test_size=TEST_SIZE,random_state=RANDOM_STATE)"
   ],
   "metadata": {
    "collapsed": false
   }
  },
  {
   "cell_type": "code",
   "execution_count": 82,
   "outputs": [
    {
     "name": "stdout",
     "output_type": "stream",
     "text": [
      "<class 'pandas.core.frame.DataFrame'>\n",
      "Int64Index: 3207 entries, 6003 to 7247\n",
      "Data columns (total 22 columns):\n",
      " #   Column                         Non-Null Count  Dtype  \n",
      "---  ------                         --------------  -----  \n",
      " 0   region                         3207 non-null   object \n",
      " 1   response                       3207 non-null   object \n",
      " 2   coverage                       3207 non-null   object \n",
      " 3   education                      3207 non-null   object \n",
      " 4   month                          3207 non-null   object \n",
      " 5   employment_status              3207 non-null   object \n",
      " 6   gender                         3207 non-null   object \n",
      " 7   location_code                  3207 non-null   object \n",
      " 8   marital_status                 3207 non-null   object \n",
      " 9   policy_type                    3207 non-null   object \n",
      " 10  policy                         3207 non-null   object \n",
      " 11  renew_offer_type               3207 non-null   object \n",
      " 12  sales_channel                  3207 non-null   object \n",
      " 13  vehicle_class                  3207 non-null   object \n",
      " 14  vehicle_size                   3207 non-null   object \n",
      " 15  customer_lifetime_value        3207 non-null   float64\n",
      " 16  income                         3207 non-null   float64\n",
      " 17  months_since_last_claim        3207 non-null   float64\n",
      " 18  months_since_policy_inception  3207 non-null   float64\n",
      " 19  number_of_open_complaints      3207 non-null   float64\n",
      " 20  number_of_policies             3207 non-null   float64\n",
      " 21  total_claim_amount             3207 non-null   float64\n",
      "dtypes: float64(7), object(15)\n",
      "memory usage: 576.3+ KB\n"
     ]
    }
   ],
   "source": [
    "X_test.info()"
   ],
   "metadata": {
    "collapsed": false
   }
  },
  {
   "cell_type": "code",
   "execution_count": 83,
   "outputs": [],
   "source": [
    "cols_to_hot_encode = ['gender', 'marital_status', 'month', 'response', 'region', 'vehicle_class', 'renew_offer_type', 'policy_type', 'policy', 'location_code', 'sales_channel', 'coverage', 'education', 'employment_status', 'vehicle_size','vehicle_size']\n"
   ],
   "metadata": {
    "collapsed": false
   }
  },
  {
   "cell_type": "code",
   "execution_count": 84,
   "outputs": [],
   "source": [
    "col_to_standardize = ['customer_lifetime_value','income','total_claim_amount']"
   ],
   "metadata": {
    "collapsed": false
   }
  },
  {
   "cell_type": "code",
   "execution_count": 85,
   "outputs": [
    {
     "data": {
      "text/plain": "ColumnTransformer(remainder='passthrough',\n                  transformers=[('standardize', StandardScaler(),\n                                 ['customer_lifetime_value', 'income',\n                                  'total_claim_amount']),\n                                ('encode', OneHotEncoder(),\n                                 ['gender', 'marital_status', 'month',\n                                  'response', 'region', 'vehicle_class',\n                                  'renew_offer_type', 'policy_type', 'policy',\n                                  'location_code', 'sales_channel', 'coverage',\n                                  'education', 'employment_status',\n                                  'vehicle_size', 'vehicle_size'])])",
      "text/html": "<style>#sk-container-id-3 {color: black;background-color: white;}#sk-container-id-3 pre{padding: 0;}#sk-container-id-3 div.sk-toggleable {background-color: white;}#sk-container-id-3 label.sk-toggleable__label {cursor: pointer;display: block;width: 100%;margin-bottom: 0;padding: 0.3em;box-sizing: border-box;text-align: center;}#sk-container-id-3 label.sk-toggleable__label-arrow:before {content: \"▸\";float: left;margin-right: 0.25em;color: #696969;}#sk-container-id-3 label.sk-toggleable__label-arrow:hover:before {color: black;}#sk-container-id-3 div.sk-estimator:hover label.sk-toggleable__label-arrow:before {color: black;}#sk-container-id-3 div.sk-toggleable__content {max-height: 0;max-width: 0;overflow: hidden;text-align: left;background-color: #f0f8ff;}#sk-container-id-3 div.sk-toggleable__content pre {margin: 0.2em;color: black;border-radius: 0.25em;background-color: #f0f8ff;}#sk-container-id-3 input.sk-toggleable__control:checked~div.sk-toggleable__content {max-height: 200px;max-width: 100%;overflow: auto;}#sk-container-id-3 input.sk-toggleable__control:checked~label.sk-toggleable__label-arrow:before {content: \"▾\";}#sk-container-id-3 div.sk-estimator input.sk-toggleable__control:checked~label.sk-toggleable__label {background-color: #d4ebff;}#sk-container-id-3 div.sk-label input.sk-toggleable__control:checked~label.sk-toggleable__label {background-color: #d4ebff;}#sk-container-id-3 input.sk-hidden--visually {border: 0;clip: rect(1px 1px 1px 1px);clip: rect(1px, 1px, 1px, 1px);height: 1px;margin: -1px;overflow: hidden;padding: 0;position: absolute;width: 1px;}#sk-container-id-3 div.sk-estimator {font-family: monospace;background-color: #f0f8ff;border: 1px dotted black;border-radius: 0.25em;box-sizing: border-box;margin-bottom: 0.5em;}#sk-container-id-3 div.sk-estimator:hover {background-color: #d4ebff;}#sk-container-id-3 div.sk-parallel-item::after {content: \"\";width: 100%;border-bottom: 1px solid gray;flex-grow: 1;}#sk-container-id-3 div.sk-label:hover label.sk-toggleable__label {background-color: #d4ebff;}#sk-container-id-3 div.sk-serial::before {content: \"\";position: absolute;border-left: 1px solid gray;box-sizing: border-box;top: 0;bottom: 0;left: 50%;z-index: 0;}#sk-container-id-3 div.sk-serial {display: flex;flex-direction: column;align-items: center;background-color: white;padding-right: 0.2em;padding-left: 0.2em;position: relative;}#sk-container-id-3 div.sk-item {position: relative;z-index: 1;}#sk-container-id-3 div.sk-parallel {display: flex;align-items: stretch;justify-content: center;background-color: white;position: relative;}#sk-container-id-3 div.sk-item::before, #sk-container-id-3 div.sk-parallel-item::before {content: \"\";position: absolute;border-left: 1px solid gray;box-sizing: border-box;top: 0;bottom: 0;left: 50%;z-index: -1;}#sk-container-id-3 div.sk-parallel-item {display: flex;flex-direction: column;z-index: 1;position: relative;background-color: white;}#sk-container-id-3 div.sk-parallel-item:first-child::after {align-self: flex-end;width: 50%;}#sk-container-id-3 div.sk-parallel-item:last-child::after {align-self: flex-start;width: 50%;}#sk-container-id-3 div.sk-parallel-item:only-child::after {width: 0;}#sk-container-id-3 div.sk-dashed-wrapped {border: 1px dashed gray;margin: 0 0.4em 0.5em 0.4em;box-sizing: border-box;padding-bottom: 0.4em;background-color: white;}#sk-container-id-3 div.sk-label label {font-family: monospace;font-weight: bold;display: inline-block;line-height: 1.2em;}#sk-container-id-3 div.sk-label-container {text-align: center;}#sk-container-id-3 div.sk-container {/* jupyter's `normalize.less` sets `[hidden] { display: none; }` but bootstrap.min.css set `[hidden] { display: none !important; }` so we also need the `!important` here to be able to override the default hidden behavior on the sphinx rendered scikit-learn.org. See: https://github.com/scikit-learn/scikit-learn/issues/21755 */display: inline-block !important;position: relative;}#sk-container-id-3 div.sk-text-repr-fallback {display: none;}</style><div id=\"sk-container-id-3\" class=\"sk-top-container\"><div class=\"sk-text-repr-fallback\"><pre>ColumnTransformer(remainder=&#x27;passthrough&#x27;,\n                  transformers=[(&#x27;standardize&#x27;, StandardScaler(),\n                                 [&#x27;customer_lifetime_value&#x27;, &#x27;income&#x27;,\n                                  &#x27;total_claim_amount&#x27;]),\n                                (&#x27;encode&#x27;, OneHotEncoder(),\n                                 [&#x27;gender&#x27;, &#x27;marital_status&#x27;, &#x27;month&#x27;,\n                                  &#x27;response&#x27;, &#x27;region&#x27;, &#x27;vehicle_class&#x27;,\n                                  &#x27;renew_offer_type&#x27;, &#x27;policy_type&#x27;, &#x27;policy&#x27;,\n                                  &#x27;location_code&#x27;, &#x27;sales_channel&#x27;, &#x27;coverage&#x27;,\n                                  &#x27;education&#x27;, &#x27;employment_status&#x27;,\n                                  &#x27;vehicle_size&#x27;, &#x27;vehicle_size&#x27;])])</pre><b>In a Jupyter environment, please rerun this cell to show the HTML representation or trust the notebook. <br />On GitHub, the HTML representation is unable to render, please try loading this page with nbviewer.org.</b></div><div class=\"sk-container\" hidden><div class=\"sk-item sk-dashed-wrapped\"><div class=\"sk-label-container\"><div class=\"sk-label sk-toggleable\"><input class=\"sk-toggleable__control sk-hidden--visually\" id=\"sk-estimator-id-15\" type=\"checkbox\" ><label for=\"sk-estimator-id-15\" class=\"sk-toggleable__label sk-toggleable__label-arrow\">ColumnTransformer</label><div class=\"sk-toggleable__content\"><pre>ColumnTransformer(remainder=&#x27;passthrough&#x27;,\n                  transformers=[(&#x27;standardize&#x27;, StandardScaler(),\n                                 [&#x27;customer_lifetime_value&#x27;, &#x27;income&#x27;,\n                                  &#x27;total_claim_amount&#x27;]),\n                                (&#x27;encode&#x27;, OneHotEncoder(),\n                                 [&#x27;gender&#x27;, &#x27;marital_status&#x27;, &#x27;month&#x27;,\n                                  &#x27;response&#x27;, &#x27;region&#x27;, &#x27;vehicle_class&#x27;,\n                                  &#x27;renew_offer_type&#x27;, &#x27;policy_type&#x27;, &#x27;policy&#x27;,\n                                  &#x27;location_code&#x27;, &#x27;sales_channel&#x27;, &#x27;coverage&#x27;,\n                                  &#x27;education&#x27;, &#x27;employment_status&#x27;,\n                                  &#x27;vehicle_size&#x27;, &#x27;vehicle_size&#x27;])])</pre></div></div></div><div class=\"sk-parallel\"><div class=\"sk-parallel-item\"><div class=\"sk-item\"><div class=\"sk-label-container\"><div class=\"sk-label sk-toggleable\"><input class=\"sk-toggleable__control sk-hidden--visually\" id=\"sk-estimator-id-16\" type=\"checkbox\" ><label for=\"sk-estimator-id-16\" class=\"sk-toggleable__label sk-toggleable__label-arrow\">standardize</label><div class=\"sk-toggleable__content\"><pre>[&#x27;customer_lifetime_value&#x27;, &#x27;income&#x27;, &#x27;total_claim_amount&#x27;]</pre></div></div></div><div class=\"sk-serial\"><div class=\"sk-item\"><div class=\"sk-estimator sk-toggleable\"><input class=\"sk-toggleable__control sk-hidden--visually\" id=\"sk-estimator-id-17\" type=\"checkbox\" ><label for=\"sk-estimator-id-17\" class=\"sk-toggleable__label sk-toggleable__label-arrow\">StandardScaler</label><div class=\"sk-toggleable__content\"><pre>StandardScaler()</pre></div></div></div></div></div></div><div class=\"sk-parallel-item\"><div class=\"sk-item\"><div class=\"sk-label-container\"><div class=\"sk-label sk-toggleable\"><input class=\"sk-toggleable__control sk-hidden--visually\" id=\"sk-estimator-id-18\" type=\"checkbox\" ><label for=\"sk-estimator-id-18\" class=\"sk-toggleable__label sk-toggleable__label-arrow\">encode</label><div class=\"sk-toggleable__content\"><pre>[&#x27;gender&#x27;, &#x27;marital_status&#x27;, &#x27;month&#x27;, &#x27;response&#x27;, &#x27;region&#x27;, &#x27;vehicle_class&#x27;, &#x27;renew_offer_type&#x27;, &#x27;policy_type&#x27;, &#x27;policy&#x27;, &#x27;location_code&#x27;, &#x27;sales_channel&#x27;, &#x27;coverage&#x27;, &#x27;education&#x27;, &#x27;employment_status&#x27;, &#x27;vehicle_size&#x27;, &#x27;vehicle_size&#x27;]</pre></div></div></div><div class=\"sk-serial\"><div class=\"sk-item\"><div class=\"sk-estimator sk-toggleable\"><input class=\"sk-toggleable__control sk-hidden--visually\" id=\"sk-estimator-id-19\" type=\"checkbox\" ><label for=\"sk-estimator-id-19\" class=\"sk-toggleable__label sk-toggleable__label-arrow\">OneHotEncoder</label><div class=\"sk-toggleable__content\"><pre>OneHotEncoder()</pre></div></div></div></div></div></div><div class=\"sk-parallel-item\"><div class=\"sk-item\"><div class=\"sk-label-container\"><div class=\"sk-label sk-toggleable\"><input class=\"sk-toggleable__control sk-hidden--visually\" id=\"sk-estimator-id-20\" type=\"checkbox\" ><label for=\"sk-estimator-id-20\" class=\"sk-toggleable__label sk-toggleable__label-arrow\">remainder</label><div class=\"sk-toggleable__content\"><pre>[&#x27;months_since_last_claim&#x27;, &#x27;months_since_policy_inception&#x27;, &#x27;number_of_open_complaints&#x27;, &#x27;number_of_policies&#x27;]</pre></div></div></div><div class=\"sk-serial\"><div class=\"sk-item\"><div class=\"sk-estimator sk-toggleable\"><input class=\"sk-toggleable__control sk-hidden--visually\" id=\"sk-estimator-id-21\" type=\"checkbox\" ><label for=\"sk-estimator-id-21\" class=\"sk-toggleable__label sk-toggleable__label-arrow\">passthrough</label><div class=\"sk-toggleable__content\"><pre>passthrough</pre></div></div></div></div></div></div></div></div></div></div>"
     },
     "execution_count": 85,
     "metadata": {},
     "output_type": "execute_result"
    }
   ],
   "source": [
    "transformer = ColumnTransformer([\n",
    "    ('standardize', StandardScaler(), col_to_standardize),\n",
    "    ('encode', OneHotEncoder(), cols_to_hot_encode)\n",
    "], remainder = 'passthrough', verbose_feature_names_out=True)\n",
    "\n",
    "transformer.fit(X_train)"
   ],
   "metadata": {
    "collapsed": false,
    "pycharm": {
     "name": "#%%col_names_standardize = cols[:-num_to_enc]col_names_standardize = cols[:# transform the data for use in distance based modeling algorithms [logistic regression]\n"
    }
   }
  },
  {
   "cell_type": "code",
   "execution_count": 86,
   "outputs": [
    {
     "data": {
      "text/plain": "array(['standardize__customer_lifetime_value', 'standardize__income',\n       'standardize__total_claim_amount', 'encode__gender_f',\n       'encode__gender_m', 'encode__marital_status_divorced',\n       'encode__marital_status_married', 'encode__marital_status_single',\n       'encode__month_feb', 'encode__month_jan', 'encode__response_no',\n       'encode__response_yes', 'encode__region_central',\n       'encode__region_east', 'encode__region_north west',\n       'encode__region_west region',\n       'encode__vehicle_class_four-door car',\n       'encode__vehicle_class_luxury car',\n       'encode__vehicle_class_luxury suv',\n       'encode__vehicle_class_sports car', 'encode__vehicle_class_suv',\n       'encode__vehicle_class_two-door car',\n       'encode__renew_offer_type_offer1',\n       'encode__renew_offer_type_offer2',\n       'encode__renew_offer_type_offer3',\n       'encode__renew_offer_type_offer4',\n       'encode__policy_type_corporate auto',\n       'encode__policy_type_personal auto',\n       'encode__policy_type_special auto', 'encode__policy_corporate l1',\n       'encode__policy_corporate l2', 'encode__policy_corporate l3',\n       'encode__policy_personal l1', 'encode__policy_personal l2',\n       'encode__policy_personal l3', 'encode__policy_special l1',\n       'encode__policy_special l2', 'encode__policy_special l3',\n       'encode__location_code_rural', 'encode__location_code_suburban',\n       'encode__location_code_urban', 'encode__sales_channel_agent',\n       'encode__sales_channel_branch',\n       'encode__sales_channel_call center', 'encode__sales_channel_web',\n       'encode__coverage_basic', 'encode__coverage_extended',\n       'encode__coverage_premium', 'encode__education_bachelor',\n       'encode__education_college', 'encode__education_doctor',\n       'encode__education_high school or below',\n       'encode__education_master', 'encode__employment_status_disabled',\n       'encode__employment_status_employed',\n       'encode__employment_status_medical leave',\n       'encode__employment_status_retired',\n       'encode__employment_status_unemployed',\n       'encode__vehicle_size_large', 'encode__vehicle_size_medsize',\n       'encode__vehicle_size_small', 'encode__vehicle_size_large',\n       'encode__vehicle_size_medsize', 'encode__vehicle_size_small',\n       'remainder__months_since_last_claim',\n       'remainder__months_since_policy_inception',\n       'remainder__number_of_open_complaints',\n       'remainder__number_of_policies'], dtype=object)"
     },
     "execution_count": 86,
     "metadata": {},
     "output_type": "execute_result"
    }
   ],
   "source": [
    "transformer.get_feature_names_out()"
   ],
   "metadata": {
    "collapsed": false
   }
  },
  {
   "cell_type": "code",
   "execution_count": 86,
   "outputs": [],
   "source": [],
   "metadata": {
    "collapsed": false
   }
  },
  {
   "cell_type": "code",
   "execution_count": 87,
   "outputs": [],
   "source": [
    "# std. transformed and encoded variables (np arrays)\n",
    "X_train_e = transformer.transform(X_train)\n",
    "X_test_e  = transformer.transform(X_test)"
   ],
   "metadata": {
    "collapsed": false
   }
  },
  {
   "cell_type": "code",
   "execution_count": 88,
   "outputs": [],
   "source": [
    "X_train_e_df = pd.DataFrame(X_train_e,columns=transformer.get_feature_names_out())\n",
    "X_test_e_df = pd.DataFrame(X_test_e,columns=transformer.get_feature_names_out())"
   ],
   "metadata": {
    "collapsed": false
   }
  },
  {
   "cell_type": "code",
   "execution_count": 65,
   "outputs": [],
   "source": [],
   "metadata": {
    "collapsed": false
   }
  },
  {
   "cell_type": "code",
   "execution_count": 66,
   "outputs": [],
   "source": [
    "model = LinearRegression()           # model\n",
    "model.fit(X_train_e, y_train)   # model train\n",
    "y_pred       = model.predict(X_test_e)   # model prediction [test]\n",
    "y_pred_train = model.predict(X_train_e)  # model prediction [train]\n",
    "result = pd.DataFrame({\"y_test\":y_test,\"y_pred\":y_pred})"
   ],
   "metadata": {
    "collapsed": false
   }
  },
  {
   "cell_type": "code",
   "execution_count": 67,
   "outputs": [
    {
     "data": {
      "text/plain": "[<matplotlib.lines.Line2D at 0x17712e880>]"
     },
     "execution_count": 67,
     "metadata": {},
     "output_type": "execute_result"
    },
    {
     "data": {
      "text/plain": "<Figure size 1008x288 with 3 Axes>",
      "image/png": "[encoded data removed]"
     },
     "metadata": {
      "needs_background": "light"
     },
     "output_type": "display_data"
    }
   ],
   "source": [
    "fig, ax = plt.subplots(1,3,figsize=(14,4))\n",
    "ax[0].plot(y_pred, y_test, 'o')\n",
    "ax[0].set_xlabel(\"y_test\")\n",
    "ax[0].set_ylabel(\"y_pred\")\n",
    "ax[0].set_title(\"Test Set -Predicted vs real\")\n",
    "\n",
    "# Get a histogram of the residuals ie: y - y_pred.  Homoscdasticity\n",
    "# It resembles a normal distribution?\n",
    "ax[1].hist(y_test - y_pred)\n",
    "ax[1].set_xlabel(\"Test y-y_pred\")\n",
    "ax[1].set_title(\"Test Set Residual histogram\")\n",
    "\n",
    "ax[2].plot(y_pred,y_test - y_pred,\"o\")\n",
    "ax[2].set_xlabel(\"predited\")\n",
    "ax[2].set_ylabel(\"residuals\")\n",
    "ax[2].set_title(\"Residuals by Predicted\")\n",
    "ax[2].plot(y_pred,np.zeros(len(y_pred)),linestyle='dashed')"
   ],
   "metadata": {
    "collapsed": false
   }
  },
  {
   "cell_type": "code",
   "execution_count": 68,
   "outputs": [
    {
     "data": {
      "text/plain": "<AxesSubplot:xlabel='y_pred', ylabel='y_test'>"
     },
     "execution_count": 68,
     "metadata": {},
     "output_type": "execute_result"
    },
    {
     "data": {
      "text/plain": "<Figure size 432x288 with 1 Axes>",
      "image/png": "[encoded data removed]"
     },
     "metadata": {
      "needs_background": "light"
     },
     "output_type": "display_data"
    }
   ],
   "source": [
    "sns.regplot(x='y_pred',y='y_test', data=result, scatter_kws={\"color\": \"red\"}, line_kws={\"color\": \"black\"})"
   ],
   "metadata": {
    "collapsed": false
   }
  },
  {
   "cell_type": "code",
   "execution_count": 69,
   "outputs": [
    {
     "data": {
      "text/plain": "0.8913744420967546"
     },
     "execution_count": 69,
     "metadata": {},
     "output_type": "execute_result"
    }
   ],
   "source": [
    "r2_score(y_test,y_pred)"
   ],
   "metadata": {
    "collapsed": false
   }
  },
  {
   "cell_type": "code",
   "execution_count": 70,
   "outputs": [
    {
     "data": {
      "text/plain": "                                   Attribute    Importance\n39            encode__location_code_suburban  3.514057e+11\n40               encode__location_code_urban  3.514057e+11\n38               encode__location_code_rural  3.514057e+11\n45                    encode__coverage_basic  1.911539e+11\n46                 encode__coverage_extended  1.911539e+11\n..                                       ...           ...\n66      remainder__number_of_open_complaints  3.801270e-01\n1                        standardize__income  5.466672e-02\n67             remainder__number_of_policies  3.244019e-02\n64        remainder__months_since_last_claim  1.065063e-02\n65  remainder__months_since_policy_inception  1.358032e-03\n\n[68 rows x 2 columns]",
      "text/html": "<div>\n<style scoped>\n    .dataframe tbody tr th:only-of-type {\n        vertical-align: middle;\n    }\n\n    .dataframe tbody tr th {\n        vertical-align: top;\n    }\n\n    .dataframe thead th {\n        text-align: right;\n    }\n</style>\n<table border=\"1\" class=\"dataframe\">\n  <thead>\n    <tr style=\"text-align: right;\">\n      <th></th>\n      <th>Attribute</th>\n      <th>Importance</th>\n    </tr>\n  </thead>\n  <tbody>\n    <tr>\n      <th>39</th>\n      <td>encode__location_code_suburban</td>\n      <td>3.514057e+11</td>\n    </tr>\n    <tr>\n      <th>40</th>\n      <td>encode__location_code_urban</td>\n      <td>3.514057e+11</td>\n    </tr>\n    <tr>\n      <th>38</th>\n      <td>encode__location_code_rural</td>\n      <td>3.514057e+11</td>\n    </tr>\n    <tr>\n      <th>45</th>\n      <td>encode__coverage_basic</td>\n      <td>1.911539e+11</td>\n    </tr>\n    <tr>\n      <th>46</th>\n      <td>encode__coverage_extended</td>\n      <td>1.911539e+11</td>\n    </tr>\n    <tr>\n      <th>...</th>\n      <td>...</td>\n      <td>...</td>\n    </tr>\n    <tr>\n      <th>66</th>\n      <td>remainder__number_of_open_complaints</td>\n      <td>3.801270e-01</td>\n    </tr>\n    <tr>\n      <th>1</th>\n      <td>standardize__income</td>\n      <td>5.466672e-02</td>\n    </tr>\n    <tr>\n      <th>67</th>\n      <td>remainder__number_of_policies</td>\n      <td>3.244019e-02</td>\n    </tr>\n    <tr>\n      <th>64</th>\n      <td>remainder__months_since_last_claim</td>\n      <td>1.065063e-02</td>\n    </tr>\n    <tr>\n      <th>65</th>\n      <td>remainder__months_since_policy_inception</td>\n      <td>1.358032e-03</td>\n    </tr>\n  </tbody>\n</table>\n<p>68 rows × 2 columns</p>\n</div>"
     },
     "execution_count": 70,
     "metadata": {},
     "output_type": "execute_result"
    }
   ],
   "source": [
    "features_importances = pd.DataFrame(data={\n",
    "    'Attribute': X_train_e_df.columns,\n",
    "    'Importance': abs(model.coef_)\n",
    "})\n",
    "features_importances = features_importances.sort_values(by='Importance', ascending=False)\n",
    "\n",
    "features_importances"
   ],
   "metadata": {
    "collapsed": false
   }
  },
  {
   "cell_type": "code",
   "execution_count": 71,
   "outputs": [
    {
     "data": {
      "text/plain": "<Figure size 432x288 with 1 Axes>",
      "image/png": "[encoded data removed]"
     },
     "metadata": {
      "needs_background": "light"
     },
     "output_type": "display_data"
    }
   ],
   "source": [
    "plt.bar(x=features_importances['Attribute'].head(10), height=features_importances['Importance'].head(10), color='#087E8B')\n",
    "plt.title('Feature Importances', size=20)\n",
    "plt.xticks(rotation='vertical')\n",
    "plt.show()"
   ],
   "metadata": {
    "collapsed": false
   }
  },
  {
   "cell_type": "code",
   "execution_count": 95,
   "outputs": [
    {
     "name": "stdout",
     "output_type": "stream",
     "text": [
      "                             OLS Regression Results                             \n",
      "================================================================================\n",
      "Dep. Variable:     monthly_premium_auto   R-squared:                       0.888\n",
      "Model:                              OLS   Adj. R-squared:                  0.887\n",
      "Method:                   Least Squares   F-statistic:                     1228.\n",
      "Date:                  Thu, 17 Nov 2022   Prob (F-statistic):               0.00\n",
      "Time:                          11:54:41   Log-Likelihood:                -28775.\n",
      "No. Observations:                  7482   AIC:                         5.765e+04\n",
      "Df Residuals:                      7433   BIC:                         5.799e+04\n",
      "Df Model:                            48                                         \n",
      "Covariance Type:              nonrobust                                         \n",
      "==============================================================================\n",
      "                 coef    std err          t      P>|t|      [0.025      0.975]\n",
      "------------------------------------------------------------------------------\n",
      "const         23.0442      0.111    206.864      0.000      22.826      23.263\n",
      "x1             1.4623      0.142     10.289      0.000       1.184       1.741\n",
      "x2             0.0546      0.151      0.362      0.717      -0.241       0.350\n",
      "x3            10.1903      0.249     40.856      0.000       9.701      10.679\n",
      "x4            11.8248      0.142     83.425      0.000      11.547      12.103\n",
      "x5            11.2194      0.147     76.552      0.000      10.932      11.507\n",
      "x6             8.5169      0.264     32.244      0.000       7.999       9.035\n",
      "x7             8.6944      0.192     45.268      0.000       8.318       9.071\n",
      "x8             5.8329      0.240     24.317      0.000       5.363       6.303\n",
      "x9            11.7411      0.144     81.418      0.000      11.458      12.024\n",
      "x10           11.3031      0.142     79.349      0.000      11.024      11.582\n",
      "x11           10.6165      0.214     49.646      0.000      10.197      11.036\n",
      "x12           12.4277      0.234     53.188      0.000      11.970      12.886\n",
      "x13            5.5343      0.231     23.973      0.000       5.082       5.987\n",
      "x14            5.6460      0.359     15.706      0.000       4.941       6.351\n",
      "x15            6.0263      0.233     25.871      0.000       5.570       6.483\n",
      "x16            5.8376      0.221     26.444      0.000       5.405       6.270\n",
      "x17          -39.4273      0.378   -104.174      0.000     -40.169     -38.685\n",
      "x18           58.6902      0.935     62.764      0.000      56.857      60.523\n",
      "x19           55.0307      0.841     65.472      0.000      53.383      56.678\n",
      "x20           -5.5122      0.538    -10.250      0.000      -6.566      -4.458\n",
      "x21           -6.5002      0.357    -18.232      0.000      -7.199      -5.801\n",
      "x22          -39.2371      0.417    -94.100      0.000     -40.054     -38.420\n",
      "x23            6.0906      0.222     27.375      0.000       5.654       6.527\n",
      "x24            5.3879      0.229     23.481      0.000       4.938       5.838\n",
      "x25            5.4144      0.280     19.350      0.000       4.866       5.963\n",
      "x26            6.1512      0.325     18.938      0.000       5.515       6.788\n",
      "x27            8.0193      0.235     34.163      0.000       7.559       8.479\n",
      "x28            7.8742      0.201     39.083      0.000       7.479       8.269\n",
      "x29            7.1507      0.378     18.894      0.000       6.409       7.893\n",
      "x30            3.0020      0.498      6.024      0.000       2.025       3.979\n",
      "x31            2.9631      0.440      6.735      0.000       2.101       3.826\n",
      "x32            2.0542      0.369      5.564      0.000       1.330       2.778\n",
      "x33            2.4266      0.283      8.561      0.000       1.871       2.982\n",
      "x34            2.4315      0.237     10.258      0.000       1.967       2.896\n",
      "x35            3.0161      0.209     14.454      0.000       2.607       3.425\n",
      "x36            1.2292      1.211      1.015      0.310      -1.144       3.603\n",
      "x37            2.4253      0.892      2.718      0.007       0.676       4.175\n",
      "x38            3.4962      0.898      3.891      0.000       1.735       5.257\n",
      "x39           14.8325      0.295     50.294      0.000      14.254      15.411\n",
      "x40            1.5328      0.265      5.778      0.000       1.013       2.053\n",
      "x41            6.6789      0.256     26.086      0.000       6.177       7.181\n",
      "x42            5.6680      0.210     27.013      0.000       5.257       6.079\n",
      "x43            5.8317      0.228     25.558      0.000       5.384       6.279\n",
      "x44            5.9334      0.255     23.312      0.000       5.434       6.432\n",
      "x45            5.6111      0.285     19.697      0.000       5.053       6.169\n",
      "x46          -10.9310      0.217    -50.283      0.000     -11.357     -10.505\n",
      "x47            5.9513      0.223     26.704      0.000       5.514       6.388\n",
      "x48           28.0239      0.341     82.188      0.000      27.355      28.692\n",
      "x49            4.2130      0.263     16.042      0.000       3.698       4.728\n",
      "x50            4.6973      0.263     17.843      0.000       4.181       5.213\n",
      "x51            5.0877      0.567      8.978      0.000       3.977       6.199\n",
      "x52            3.8309      0.268     14.292      0.000       3.305       4.356\n",
      "x53            5.2153      0.408     12.790      0.000       4.416       6.015\n",
      "x54            4.5416      0.547      8.298      0.000       3.469       5.615\n",
      "x55            5.9023      0.321     18.404      0.000       5.274       6.531\n",
      "x56            4.0051      0.544      7.367      0.000       2.939       5.071\n",
      "x57            6.0039      0.745      8.063      0.000       4.544       7.464\n",
      "x58            2.5912      0.372      6.974      0.000       1.863       3.320\n",
      "x59            7.2038      0.156     46.247      0.000       6.898       7.509\n",
      "x60            7.9604      0.100     79.734      0.000       7.765       8.156\n",
      "x61            7.8800      0.134     58.773      0.000       7.617       8.143\n",
      "x62            7.2038      0.156     46.247      0.000       6.898       7.509\n",
      "x63            7.9604      0.100     79.734      0.000       7.765       8.156\n",
      "x64            7.8800      0.134     58.773      0.000       7.617       8.143\n",
      "x65           -0.0106      0.013     -0.809      0.419      -0.036       0.015\n",
      "x66            0.0014      0.005      0.287      0.774      -0.008       0.011\n",
      "x67            0.3802      0.144      2.632      0.008       0.097       0.663\n",
      "x68           -0.0323      0.055     -0.585      0.558      -0.141       0.076\n",
      "==============================================================================\n",
      "Omnibus:                     2345.868   Durbin-Watson:                   1.977\n",
      "Prob(Omnibus):                  0.000   Jarque-Bera (JB):           310077.916\n",
      "Skew:                          -0.387   Prob(JB):                         0.00\n",
      "Kurtosis:                      34.528   Cond. No.                     1.37e+16\n",
      "==============================================================================\n",
      "\n",
      "Notes:\n",
      "[1] Standard Errors assume that the covariance matrix of the errors is correctly specified.\n",
      "[2] The smallest eigenvalue is 1.32e-25. This might indicate that there are\n",
      "strong multicollinearity problems or that the design matrix is singular.\n"
     ]
    }
   ],
   "source": [
    "X_train_const_scaled = sm.add_constant(X_train_e)  #adding a constant\n",
    "model = sm.OLS(y_train, X_train_const_scaled).fit()\n",
    "predictions_train = model.predict(X_train_const_scaled)\n",
    "\n",
    "X_test_const_scaled = sm.add_constant(X_test_e)  #adding a constant\n",
    "predictions_test = model.predict(X_test_const_scaled)\n",
    "print_model = model.summary()\n",
    "print(print_model)"
   ],
   "metadata": {
    "collapsed": false
   }
  },
  {
   "cell_type": "code",
   "execution_count": 73,
   "outputs": [
    {
     "data": {
      "text/plain": "<class 'statsmodels.iolib.table.SimpleTable'>",
      "text/html": "<table class=\"simpletable\">\n<caption>OLS Regression Results</caption>\n<tr>\n  <th>Dep. Variable:</th>    <td>monthly_premium_auto</td> <th>  R-squared:         </th> <td>   0.888</td> \n</tr>\n<tr>\n  <th>Model:</th>                     <td>OLS</td>         <th>  Adj. R-squared:    </th> <td>   0.887</td> \n</tr>\n<tr>\n  <th>Method:</th>               <td>Least Squares</td>    <th>  F-statistic:       </th> <td>   1228.</td> \n</tr>\n<tr>\n  <th>Date:</th>               <td>Thu, 17 Nov 2022</td>   <th>  Prob (F-statistic):</th>  <td>  0.00</td>  \n</tr>\n<tr>\n  <th>Time:</th>                   <td>11:43:44</td>       <th>  Log-Likelihood:    </th> <td> -28775.</td> \n</tr>\n<tr>\n  <th>No. Observations:</th>        <td>  7482</td>        <th>  AIC:               </th> <td>5.765e+04</td>\n</tr>\n<tr>\n  <th>Df Residuals:</th>            <td>  7433</td>        <th>  BIC:               </th> <td>5.799e+04</td>\n</tr>\n<tr>\n  <th>Df Model:</th>                <td>    48</td>        <th>                     </th>     <td> </td>    \n</tr>\n<tr>\n  <th>Covariance Type:</th>        <td>nonrobust</td>      <th>                     </th>     <td> </td>    \n</tr>\n</table>"
     },
     "execution_count": 73,
     "metadata": {},
     "output_type": "execute_result"
    }
   ],
   "source": [
    "print_model.tables[0]"
   ],
   "metadata": {
    "collapsed": false
   }
  },
  {
   "cell_type": "code",
   "execution_count": 74,
   "outputs": [
    {
     "ename": "KeyError",
     "evalue": "\"None of [Index(['const', 'x1', 'x3', 'x4', 'x5', 'x6', 'x7', 'x8', 'x9', 'x10', 'x11',\\n       'x12', 'x13', 'x14', 'x15', 'x16', 'x17', 'x18', 'x19', 'x20', 'x21',\\n       'x22', 'x23', 'x24', 'x25', 'x26', 'x27', 'x28', 'x29', 'x30', 'x31',\\n       'x32', 'x33', 'x34', 'x35', 'x37', 'x38', 'x39', 'x40', 'x41', 'x42',\\n       'x43', 'x44', 'x45', 'x46', 'x47', 'x48', 'x49', 'x50', 'x51', 'x52',\\n       'x53', 'x54', 'x55', 'x56', 'x57', 'x58', 'x59', 'x60', 'x61', 'x62',\\n       'x63', 'x64', 'x67'],\\n      dtype='object')] are in the [columns]\"",
     "output_type": "error",
     "traceback": [
      "\u001B[0;31m---------------------------------------------------------------------------\u001B[0m",
      "\u001B[0;31mKeyError\u001B[0m                                  Traceback (most recent call last)",
      "Input \u001B[0;32mIn [74]\u001B[0m, in \u001B[0;36m<cell line: 2>\u001B[0;34m()\u001B[0m\n\u001B[1;32m      1\u001B[0m model\u001B[38;5;241m.\u001B[39mparams[\u001B[38;5;28mlist\u001B[39m(np\u001B[38;5;241m.\u001B[39mwhere(model\u001B[38;5;241m.\u001B[39mpvalues \u001B[38;5;241m<\u001B[39m \u001B[38;5;241m0.05\u001B[39m)[\u001B[38;5;241m0\u001B[39m])]\u001B[38;5;241m.\u001B[39miloc[\u001B[38;5;241m0\u001B[39m:]\u001B[38;5;241m.\u001B[39mindex\u001B[38;5;241m.\u001B[39mtolist()\n\u001B[0;32m----> 2\u001B[0m significant_features\u001B[38;5;241m=\u001B[39m\u001B[43mX_train_e_df\u001B[49m\u001B[43m[\u001B[49m\u001B[43mmodel\u001B[49m\u001B[38;5;241;43m.\u001B[39;49m\u001B[43mparams\u001B[49m\u001B[43m[\u001B[49m\u001B[38;5;28;43mlist\u001B[39;49m\u001B[43m(\u001B[49m\u001B[43mnp\u001B[49m\u001B[38;5;241;43m.\u001B[39;49m\u001B[43mwhere\u001B[49m\u001B[43m(\u001B[49m\u001B[43mmodel\u001B[49m\u001B[38;5;241;43m.\u001B[39;49m\u001B[43mpvalues\u001B[49m\u001B[43m \u001B[49m\u001B[38;5;241;43m<\u001B[39;49m\u001B[43m \u001B[49m\u001B[38;5;241;43m0.05\u001B[39;49m\u001B[43m)\u001B[49m\u001B[43m[\u001B[49m\u001B[38;5;241;43m0\u001B[39;49m\u001B[43m]\u001B[49m\u001B[43m)\u001B[49m\u001B[43m]\u001B[49m\u001B[38;5;241;43m.\u001B[39;49m\u001B[43miloc\u001B[49m\u001B[43m[\u001B[49m\u001B[38;5;241;43m0\u001B[39;49m\u001B[43m:\u001B[49m\u001B[43m]\u001B[49m\u001B[38;5;241;43m.\u001B[39;49m\u001B[43mindex\u001B[49m\u001B[38;5;241;43m.\u001B[39;49m\u001B[43mtolist\u001B[49m\u001B[43m(\u001B[49m\u001B[43m)\u001B[49m\u001B[43m]\u001B[49m\n\u001B[1;32m      3\u001B[0m sigcols\u001B[38;5;241m=\u001B[39msignificant_features\u001B[38;5;241m.\u001B[39mcolumns\n\u001B[1;32m      4\u001B[0m sigcols\n",
      "File \u001B[0;32m~/.pyenv/versions/mambaforge-4.10.1-4/envs/ih_DA_env/lib/python3.9/site-packages/pandas/core/frame.py:3511\u001B[0m, in \u001B[0;36mDataFrame.__getitem__\u001B[0;34m(self, key)\u001B[0m\n\u001B[1;32m   3509\u001B[0m     \u001B[38;5;28;01mif\u001B[39;00m is_iterator(key):\n\u001B[1;32m   3510\u001B[0m         key \u001B[38;5;241m=\u001B[39m \u001B[38;5;28mlist\u001B[39m(key)\n\u001B[0;32m-> 3511\u001B[0m     indexer \u001B[38;5;241m=\u001B[39m \u001B[38;5;28;43mself\u001B[39;49m\u001B[38;5;241;43m.\u001B[39;49m\u001B[43mcolumns\u001B[49m\u001B[38;5;241;43m.\u001B[39;49m\u001B[43m_get_indexer_strict\u001B[49m\u001B[43m(\u001B[49m\u001B[43mkey\u001B[49m\u001B[43m,\u001B[49m\u001B[43m \u001B[49m\u001B[38;5;124;43m\"\u001B[39;49m\u001B[38;5;124;43mcolumns\u001B[39;49m\u001B[38;5;124;43m\"\u001B[39;49m\u001B[43m)\u001B[49m[\u001B[38;5;241m1\u001B[39m]\n\u001B[1;32m   3513\u001B[0m \u001B[38;5;66;03m# take() does not accept boolean indexers\u001B[39;00m\n\u001B[1;32m   3514\u001B[0m \u001B[38;5;28;01mif\u001B[39;00m \u001B[38;5;28mgetattr\u001B[39m(indexer, \u001B[38;5;124m\"\u001B[39m\u001B[38;5;124mdtype\u001B[39m\u001B[38;5;124m\"\u001B[39m, \u001B[38;5;28;01mNone\u001B[39;00m) \u001B[38;5;241m==\u001B[39m \u001B[38;5;28mbool\u001B[39m:\n",
      "File \u001B[0;32m~/.pyenv/versions/mambaforge-4.10.1-4/envs/ih_DA_env/lib/python3.9/site-packages/pandas/core/indexes/base.py:5782\u001B[0m, in \u001B[0;36mIndex._get_indexer_strict\u001B[0;34m(self, key, axis_name)\u001B[0m\n\u001B[1;32m   5779\u001B[0m \u001B[38;5;28;01melse\u001B[39;00m:\n\u001B[1;32m   5780\u001B[0m     keyarr, indexer, new_indexer \u001B[38;5;241m=\u001B[39m \u001B[38;5;28mself\u001B[39m\u001B[38;5;241m.\u001B[39m_reindex_non_unique(keyarr)\n\u001B[0;32m-> 5782\u001B[0m \u001B[38;5;28;43mself\u001B[39;49m\u001B[38;5;241;43m.\u001B[39;49m\u001B[43m_raise_if_missing\u001B[49m\u001B[43m(\u001B[49m\u001B[43mkeyarr\u001B[49m\u001B[43m,\u001B[49m\u001B[43m \u001B[49m\u001B[43mindexer\u001B[49m\u001B[43m,\u001B[49m\u001B[43m \u001B[49m\u001B[43maxis_name\u001B[49m\u001B[43m)\u001B[49m\n\u001B[1;32m   5784\u001B[0m keyarr \u001B[38;5;241m=\u001B[39m \u001B[38;5;28mself\u001B[39m\u001B[38;5;241m.\u001B[39mtake(indexer)\n\u001B[1;32m   5785\u001B[0m \u001B[38;5;28;01mif\u001B[39;00m \u001B[38;5;28misinstance\u001B[39m(key, Index):\n\u001B[1;32m   5786\u001B[0m     \u001B[38;5;66;03m# GH 42790 - Preserve name from an Index\u001B[39;00m\n",
      "File \u001B[0;32m~/.pyenv/versions/mambaforge-4.10.1-4/envs/ih_DA_env/lib/python3.9/site-packages/pandas/core/indexes/base.py:5842\u001B[0m, in \u001B[0;36mIndex._raise_if_missing\u001B[0;34m(self, key, indexer, axis_name)\u001B[0m\n\u001B[1;32m   5840\u001B[0m     \u001B[38;5;28;01mif\u001B[39;00m use_interval_msg:\n\u001B[1;32m   5841\u001B[0m         key \u001B[38;5;241m=\u001B[39m \u001B[38;5;28mlist\u001B[39m(key)\n\u001B[0;32m-> 5842\u001B[0m     \u001B[38;5;28;01mraise\u001B[39;00m \u001B[38;5;167;01mKeyError\u001B[39;00m(\u001B[38;5;124mf\u001B[39m\u001B[38;5;124m\"\u001B[39m\u001B[38;5;124mNone of [\u001B[39m\u001B[38;5;132;01m{\u001B[39;00mkey\u001B[38;5;132;01m}\u001B[39;00m\u001B[38;5;124m] are in the [\u001B[39m\u001B[38;5;132;01m{\u001B[39;00maxis_name\u001B[38;5;132;01m}\u001B[39;00m\u001B[38;5;124m]\u001B[39m\u001B[38;5;124m\"\u001B[39m)\n\u001B[1;32m   5844\u001B[0m not_found \u001B[38;5;241m=\u001B[39m \u001B[38;5;28mlist\u001B[39m(ensure_index(key)[missing_mask\u001B[38;5;241m.\u001B[39mnonzero()[\u001B[38;5;241m0\u001B[39m]]\u001B[38;5;241m.\u001B[39munique())\n\u001B[1;32m   5845\u001B[0m \u001B[38;5;28;01mraise\u001B[39;00m \u001B[38;5;167;01mKeyError\u001B[39;00m(\u001B[38;5;124mf\u001B[39m\u001B[38;5;124m\"\u001B[39m\u001B[38;5;132;01m{\u001B[39;00mnot_found\u001B[38;5;132;01m}\u001B[39;00m\u001B[38;5;124m not in index\u001B[39m\u001B[38;5;124m\"\u001B[39m)\n",
      "\u001B[0;31mKeyError\u001B[0m: \"None of [Index(['const', 'x1', 'x3', 'x4', 'x5', 'x6', 'x7', 'x8', 'x9', 'x10', 'x11',\\n       'x12', 'x13', 'x14', 'x15', 'x16', 'x17', 'x18', 'x19', 'x20', 'x21',\\n       'x22', 'x23', 'x24', 'x25', 'x26', 'x27', 'x28', 'x29', 'x30', 'x31',\\n       'x32', 'x33', 'x34', 'x35', 'x37', 'x38', 'x39', 'x40', 'x41', 'x42',\\n       'x43', 'x44', 'x45', 'x46', 'x47', 'x48', 'x49', 'x50', 'x51', 'x52',\\n       'x53', 'x54', 'x55', 'x56', 'x57', 'x58', 'x59', 'x60', 'x61', 'x62',\\n       'x63', 'x64', 'x67'],\\n      dtype='object')] are in the [columns]\""
     ]
    }
   ],
   "source": [
    "model.params[list(np.where(model.pvalues < 0.05)[0])].iloc[0:].index.tolist()\n",
    "significant_features=X_train_e_df[model.params[list(np.where(model.pvalues < 0.05)[0])].iloc[0:].index.tolist()]\n",
    "sigcols=significant_features.columns\n",
    "sigcols"
   ],
   "metadata": {
    "collapsed": false
   }
  },
  {
   "cell_type": "code",
   "execution_count": null,
   "outputs": [],
   "source": [
    "import xgboost as xgb"
   ],
   "metadata": {
    "collapsed": false
   }
  },
  {
   "cell_type": "code",
   "execution_count": null,
   "outputs": [],
   "source": [
    "xgb_r = xgb.XGBRegressor(objective ='reg:linear', n_estimators = 10, seed = RANDOM_STATE)"
   ],
   "metadata": {
    "collapsed": false
   }
  },
  {
   "cell_type": "code",
   "execution_count": null,
   "outputs": [],
   "source": [
    "# Fitting the model\n",
    "xgb_r.fit(X_train_e,y_train)\n",
    "\n",
    "# Predict the model\n",
    "pred = xgb_r.predict(X_test_e)"
   ],
   "metadata": {
    "collapsed": false
   }
  },
  {
   "cell_type": "code",
   "execution_count": null,
   "outputs": [],
   "source": [
    "# R2 Computation\n",
    "r2 = r2_score(y_test,pred)\n",
    "print(\"R2 score : % f\" %(r2))"
   ],
   "metadata": {
    "collapsed": false
   }
  },
  {
   "cell_type": "code",
   "execution_count": null,
   "outputs": [],
   "source": [
    "model=Lasso(alpha=0.05)\n",
    "\n",
    "model.fit(X_train_e, y_train)\n",
    "print(f\"{model.__class__.__name__}: Train -> {model.score(X_train_e, y_train)}, Test -> {model.score(X_test_e, y_test)}\")"
   ],
   "metadata": {
    "collapsed": false
   }
  },
  {
   "cell_type": "code",
   "execution_count": null,
   "outputs": [],
   "source": [
    "model=Ridge(alpha=0.05)\n",
    "model.fit(X_train_e, y_train)\n",
    "print(f\"{model.__class__.__name__}: Train -> {model.score(X_train_e, y_train)}, Test -> {model.score(X_test_e, y_test)}\")"
   ],
   "metadata": {
    "collapsed": false
   }
  },
  {
   "cell_type": "code",
   "execution_count": null,
   "outputs": [],
   "source": [],
   "metadata": {
    "collapsed": false
   }
  },
  {
   "cell_type": "code",
   "execution_count": null,
   "outputs": [],
   "source": [],
   "metadata": {
    "collapsed": false
   }
  }
 ],
 "metadata": {
  "kernelspec": {
   "display_name": "Python 3",
   "language": "python",
   "name": "python3"
  },
  "language_info": {
   "codemirror_mode": {
    "name": "ipython",
    "version": 2
   },
   "file_extension": ".py",
   "mimetype": "text/x-python",
   "name": "python",
   "nbconvert_exporter": "python",
   "pygments_lexer": "ipython2",
   "version": "2.7.6"
  }
 },
 "nbformat": 4,
 "nbformat_minor": 0
}
